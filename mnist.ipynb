{
 "cells": [
  {
   "cell_type": "markdown",
   "metadata": {},
   "source": [
    "## Manual running of the MNIST example"
   ]
  },
  {
   "cell_type": "code",
   "execution_count": 1,
   "metadata": {},
   "outputs": [],
   "source": [
    "from examplegpu.src.models.cnn import CNN, CNNConfig\n",
    "from examplegpu.src.dataloader.mnist_dataloader import MNISTDataLoader\n",
    "import torch\n",
    "from torch import nn"
   ]
  },
  {
   "cell_type": "code",
   "execution_count": 2,
   "metadata": {},
   "outputs": [],
   "source": [
    "train_dl = MNISTDataLoader(batch_size=64, train=True)\n",
    "test_dl = MNISTDataLoader(batch_size=64, train=False)\n",
    "\n",
    "model = CNN(config=CNNConfig())\n",
    "\n",
    "criterion = nn.CrossEntropyLoss()"
   ]
  },
  {
   "cell_type": "markdown",
   "metadata": {},
   "source": [
    "First we check that our dataloader is working :"
   ]
  },
  {
   "cell_type": "code",
   "execution_count": 16,
   "metadata": {},
   "outputs": [
    {
     "name": "stdout",
     "output_type": "stream",
     "text": [
      "Batch size is : 64\n",
      "Input image size torch.Size([1, 28, 28])\n",
      "Label size torch.Size([64]) | 1 label for each batch and each label is an integer\n",
      "Labels tensor([1, 7, 8, 1, 8, 7, 0, 4, 4, 3, 5, 6, 4, 7, 0, 1, 4, 4, 0, 6, 1, 4, 7, 1,\n",
      "        3, 9, 1, 4, 0, 2, 4, 3, 9, 3, 7, 8, 1, 4, 6, 5, 0, 0, 6, 9, 0, 5, 0, 5,\n",
      "        0, 8, 0, 2, 1, 0, 7, 4, 9, 3, 8, 4, 4, 4, 1, 5])\n"
     ]
    }
   ],
   "source": [
    "batch_data: tuple = next(iter(train_dl))\n",
    "assert len(batch_data) == 2\n",
    "print(f\"Batch size is : {len(batch_data[0])}\") # Batch size\n",
    "assert len(batch_data[0][0]) == len(batch_data[0][1])\n",
    "print(f\"Input image size {batch_data[0][0].shape}\") # Input image shape\n",
    "print(f\"Label size {batch_data[1].shape} | 1 label for each batch and each label is an integer\") # Label shape\n",
    "print(f\"Labels {batch_data[1]}\") # Labels"
   ]
  },
  {
   "cell_type": "code",
   "execution_count": 2,
   "metadata": {},
   "outputs": [
    {
     "name": "stdout",
     "output_type": "stream",
     "text": [
      "Read bytes: 1750407316992 Write bytes: 1659024543744\n",
      "Read bytes: 1750407316992 Write bytes: 1659025362944\n",
      "Read bytes: 1750407398912 Write bytes: 1659025362944\n",
      "Read bytes: 1750407398912 Write bytes: 1659025604608\n",
      "Read bytes: 1750407611904 Write bytes: 1659025788928\n",
      "Read bytes: 1750414050816 Write bytes: 1659031363584\n",
      "Read bytes: 1750415513088 Write bytes: 1659051372544\n",
      "Read bytes: 1750415513088 Write bytes: 1659051442176\n",
      "Read bytes: 1750415599104 Write bytes: 1659051679744\n",
      "Read bytes: 1750415873536 Write bytes: 1659052339200\n",
      "Read bytes: 1750416008704 Write bytes: 1659053060096\n",
      "Read bytes: 1750416254464 Write bytes: 1659053883392\n",
      "Read bytes: 1750416254464 Write bytes: 1659054276608\n",
      "Read bytes: 1750425007616 Write bytes: 1659055538176\n",
      "Read bytes: 1750474143232 Write bytes: 1659056152576\n",
      "Read bytes: 1750546707968 Write bytes: 1659073810432\n",
      "Read bytes: 1750557697536 Write bytes: 1659073867776\n",
      "Read bytes: 1750557808128 Write bytes: 1659074523136\n",
      "Read bytes: 1750557873664 Write bytes: 1659075182592\n",
      "Read bytes: 1750558103040 Write bytes: 1659075600384\n",
      "Read bytes: 1750558459392 Write bytes: 1659076157440\n",
      "Read bytes: 1750558549504 Write bytes: 1659076448256\n",
      "Read bytes: 1750558631424 Write bytes: 1659076702208\n",
      "Read bytes: 1750558631424 Write bytes: 1659077242880\n",
      "Read bytes: 1750560523776 Write bytes: 1659077332992\n",
      "Read bytes: 1750560605696 Write bytes: 1659077877760\n",
      "Read bytes: 1750560691712 Write bytes: 1659078483968\n",
      "Read bytes: 1750560704000 Write bytes: 1659078770688\n"
     ]
    },
    {
     "ename": "KeyboardInterrupt",
     "evalue": "",
     "output_type": "error",
     "traceback": [
      "\u001b[31m---------------------------------------------------------------------------\u001b[39m",
      "\u001b[31mKeyboardInterrupt\u001b[39m                         Traceback (most recent call last)",
      "\u001b[36mCell\u001b[39m\u001b[36m \u001b[39m\u001b[32mIn[2]\u001b[39m\u001b[32m, line 7\u001b[39m\n\u001b[32m      5\u001b[39m disk_io = psutil.disk_io_counters()\n\u001b[32m      6\u001b[39m \u001b[38;5;28mprint\u001b[39m(\u001b[33mf\u001b[39m\u001b[33m\"\u001b[39m\u001b[33mRead bytes: \u001b[39m\u001b[38;5;132;01m{\u001b[39;00mdisk_io.read_bytes\u001b[38;5;132;01m}\u001b[39;00m\u001b[33m Write bytes: \u001b[39m\u001b[38;5;132;01m{\u001b[39;00mdisk_io.write_bytes\u001b[38;5;132;01m}\u001b[39;00m\u001b[33m\"\u001b[39m)\n\u001b[32m----> \u001b[39m\u001b[32m7\u001b[39m \u001b[43mtime\u001b[49m\u001b[43m.\u001b[49m\u001b[43msleep\u001b[49m\u001b[43m(\u001b[49m\u001b[32;43m1\u001b[39;49m\u001b[43m)\u001b[49m  \u001b[38;5;66;03m# Adjust sleep time based on your needs\u001b[39;00m\n",
      "\u001b[31mKeyboardInterrupt\u001b[39m: "
     ]
    }
   ],
   "source": [
    "import psutil\n",
    "import time\n",
    "import csv\n",
    "\n",
    "# Open a CSV file to log the data\n",
    "with open('disk_io_log.csv', 'w', newline='') as csvfile:\n",
    "    fieldnames = ['time', 'read_bytes', 'write_bytes']\n",
    "    writer = csv.DictWriter(csvfile, fieldnames=fieldnames)\n",
    "\n",
    "    # Write header\n",
    "    writer.writeheader()\n",
    "\n",
    "    # Log disk I/O every second\n",
    "    for _ in range(100):  # 100 iterations\n",
    "        disk_io = psutil.disk_io_counters()\n",
    "        writer.writerow({\n",
    "            'time': time.time(),\n",
    "            'read_bytes': disk_io.read_bytes,\n",
    "            'write_bytes': disk_io.write_bytes\n",
    "        })\n",
    "        time.sleep(1)  # 1-second interval"
   ]
  },
  {
   "cell_type": "code",
   "execution_count": null,
   "metadata": {},
   "outputs": [],
   "source": []
  }
 ],
 "metadata": {
  "kernelspec": {
   "display_name": ".venv",
   "language": "python",
   "name": "python3"
  },
  "language_info": {
   "codemirror_mode": {
    "name": "ipython",
    "version": 3
   },
   "file_extension": ".py",
   "mimetype": "text/x-python",
   "name": "python",
   "nbconvert_exporter": "python",
   "pygments_lexer": "ipython3",
   "version": "3.12.2"
  }
 },
 "nbformat": 4,
 "nbformat_minor": 2
}
