{
 "cells": [
  {
   "cell_type": "markdown",
   "metadata": {},
   "source": [
    "## Manual running of the MNIST example"
   ]
  },
  {
   "cell_type": "code",
   "execution_count": 1,
   "metadata": {},
   "outputs": [],
   "source": [
    "from examplegpu.src.models.cnn import CNN, CNNConfig\n",
    "from examplegpu.src.dataloader.mnist_dataloader import MNISTDataLoader\n",
    "import torch\n",
    "from torch import nn"
   ]
  },
  {
   "cell_type": "code",
   "execution_count": 2,
   "metadata": {},
   "outputs": [],
   "source": [
    "train_dl = MNISTDataLoader(batch_size=64, train=True)\n",
    "test_dl = MNISTDataLoader(batch_size=64, train=False)\n",
    "\n",
    "model = CNN(config=CNNConfig())\n",
    "\n",
    "criterion = nn.CrossEntropyLoss()"
   ]
  },
  {
   "cell_type": "markdown",
   "metadata": {},
   "source": [
    "First we check that our dataloader is working :"
   ]
  },
  {
   "cell_type": "code",
   "execution_count": 16,
   "metadata": {},
   "outputs": [
    {
     "name": "stdout",
     "output_type": "stream",
     "text": [
      "Batch size is : 64\n",
      "Input image size torch.Size([1, 28, 28])\n",
      "Label size torch.Size([64]) | 1 label for each batch and each label is an integer\n",
      "Labels tensor([1, 7, 8, 1, 8, 7, 0, 4, 4, 3, 5, 6, 4, 7, 0, 1, 4, 4, 0, 6, 1, 4, 7, 1,\n",
      "        3, 9, 1, 4, 0, 2, 4, 3, 9, 3, 7, 8, 1, 4, 6, 5, 0, 0, 6, 9, 0, 5, 0, 5,\n",
      "        0, 8, 0, 2, 1, 0, 7, 4, 9, 3, 8, 4, 4, 4, 1, 5])\n"
     ]
    }
   ],
   "source": [
    "batch_data: tuple = next(iter(train_dl))\n",
    "assert len(batch_data) == 2\n",
    "print(f\"Batch size is : {len(batch_data[0])}\") # Batch size\n",
    "assert len(batch_data[0][0]) == len(batch_data[0][1])\n",
    "print(f\"Input image size {batch_data[0][0].shape}\") # Input image shape\n",
    "print(f\"Label size {batch_data[1].shape} | 1 label for each batch and each label is an integer\") # Label shape\n",
    "print(f\"Labels {batch_data[1]}\") # Labels"
   ]
  },
  {
   "cell_type": "code",
   "execution_count": null,
   "metadata": {},
   "outputs": [],
   "source": []
  }
 ],
 "metadata": {
  "kernelspec": {
   "display_name": ".venv",
   "language": "python",
   "name": "python3"
  },
  "language_info": {
   "codemirror_mode": {
    "name": "ipython",
    "version": 3
   },
   "file_extension": ".py",
   "mimetype": "text/x-python",
   "name": "python",
   "nbconvert_exporter": "python",
   "pygments_lexer": "ipython3",
   "version": "3.12.2"
  }
 },
 "nbformat": 4,
 "nbformat_minor": 2
}
